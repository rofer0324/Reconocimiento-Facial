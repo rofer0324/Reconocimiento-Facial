{
 "cells": [
  {
   "cell_type": "code",
   "execution_count": null,
   "id": "e1bfb469",
   "metadata": {},
   "outputs": [],
   "source": [
    "import os\n",
    "import torch\n",
    "import torch.nn as nn\n",
    "import torch.nn.functional as F\n",
    "import numpy as np\n",
    "from torchvision import models, transforms, datasets\n",
    "from torch.utils.data import DataLoader\n",
    "from PIL import Image\n",
    "from sklearn.metrics import confusion_matrix, classification_report\n",
    "import seaborn as sns\n",
    "import matplotlib.pyplot as plt"
   ]
  },
  {
   "cell_type": "code",
   "execution_count": null,
   "id": "3c9021ff",
   "metadata": {},
   "outputs": [],
   "source": [
    "DEVICE = torch.device(\"cuda\" if torch.cuda.is_available() else \"cpu\")\n",
    "\n",
    "# Transformación idéntica a entrenamiento\n",
    "transform = transforms.Compose([\n",
    "    transforms.Resize((112,112)),\n",
    "    transforms.ToTensor(),\n",
    "    transforms.Normalize([0.5]*3, [0.5]*3)\n",
    "])"
   ]
  },
  {
   "cell_type": "code",
   "execution_count": null,
   "id": "02d796f6",
   "metadata": {},
   "outputs": [],
   "source": [
    "# Backbone\n",
    "backbone = models.resnet50(weights=None)\n",
    "in_features = backbone.fc.in_features\n",
    "backbone.fc = nn.Identity()\n",
    "\n",
    "checkpoint = torch.load(\"../models/arcface_backbone17.pth\")\n",
    "backbone.load_state_dict(checkpoint[\"backbone\"])\n",
    "\n",
    "# Embedding Layer\n",
    "embedding_layer = nn.Linear(in_features, 512)\n",
    "embedding_layer.load_state_dict(checkpoint[\"embedding\"])\n",
    "\n",
    "# Modo evaluación\n",
    "backbone = backbone.to(DEVICE).eval()\n",
    "embedding_layer = embedding_layer.to(DEVICE).eval()"
   ]
  },
  {
   "cell_type": "code",
   "execution_count": null,
   "id": "d91713c7",
   "metadata": {},
   "outputs": [],
   "source": [
    "reference_db = np.load(\"../models/gallery_embeddings17.npy\", allow_pickle=True).item()\n",
    "print(\"Clases en galería:\", list(reference_db.keys()))\n",
    "print(\"Número de clases:\", len(reference_db))"
   ]
  },
  {
   "cell_type": "code",
   "execution_count": null,
   "id": "3e6a1bfd",
   "metadata": {},
   "outputs": [],
   "source": [
    "test_dataset = datasets.ImageFolder(\"../data/preprocessed/train\", transform=transform)\n",
    "test_loader = DataLoader(test_dataset, batch_size=1, shuffle=False)\n",
    "\n",
    "class_names = test_dataset.classes\n",
    "print(\"Clases en TRAIN:\", class_names)\n",
    "print(\"Número de clases:\", len(class_names))"
   ]
  },
  {
   "cell_type": "code",
   "execution_count": null,
   "id": "baf6e1ad",
   "metadata": {},
   "outputs": [],
   "source": [
    "def get_embedding(tensor_img):\n",
    "    tensor_img = tensor_img.to(DEVICE)\n",
    "    with torch.no_grad():\n",
    "        features = backbone(tensor_img)\n",
    "        emb = embedding_layer(features)\n",
    "        emb = F.normalize(emb, dim=1)\n",
    "    return emb.squeeze(0).cpu().numpy()\n",
    "\n",
    "def recognize_face(embedding, threshold=0.91):\n",
    "    \"\"\"\n",
    "    Compara un embedding facial con una base de datos de embeddings conocidos para identificar el rostro.\n",
    "\n",
    "    Parámetros:\n",
    "    ----------\n",
    "    embedding : numpy.ndarray\n",
    "        Vector de características (embedding) normalizado que representa la imagen del rostro que se quiere reconocer.\n",
    "    threshold : float, opcional\n",
    "        Umbral mínimo de similitud (producto punto) para aceptar una coincidencia como válida.\n",
    "        Si la similitud máxima es menor a este valor, se considera que el rostro es desconocido.\n",
    "\n",
    "    Retorno:\n",
    "    -------\n",
    "    str\n",
    "        El nombre de la persona reconocida si la similitud supera el umbral.\n",
    "        Si no hay ninguna coincidencia suficientemente similar, retorna \"Desconocido\".\n",
    "    \"\"\"\n",
    "    \n",
    "    best_match = None\n",
    "    best_score = -1\n",
    "    for name, ref_emb in reference_db.items():\n",
    "        score = np.dot(embedding, ref_emb)\n",
    "        if score > best_score:\n",
    "            best_score = score\n",
    "            best_match = name\n",
    "    if best_score >= threshold:\n",
    "        return best_match\n",
    "    else:\n",
    "        return \"Desconocido\""
   ]
  },
  {
   "cell_type": "code",
   "execution_count": null,
   "id": "7f98a48b",
   "metadata": {},
   "outputs": [],
   "source": [
    "y_true = []\n",
    "y_pred = []\n",
    "\n",
    "for img_tensor, label in test_loader:\n",
    "    embedding = get_embedding(img_tensor)\n",
    "    pred_name = recognize_face(embedding, threshold=0.91)\n",
    "    true_name = class_names[label.item()]\n",
    "    y_true.append(true_name)\n",
    "    y_pred.append(pred_name)\n",
    "\n",
    "print(\"✅ Evaluación completada.\")"
   ]
  },
  {
   "cell_type": "code",
   "execution_count": null,
   "id": "99da2f45",
   "metadata": {},
   "outputs": [],
   "source": [
    "# Si alguna predicción es \"Desconocido\", la incluimos en etiquetas\n",
    "all_classes = sorted(set(y_true) | set(y_pred))\n",
    "print(\"Etiquetas finales:\", all_classes)\n",
    "print(len(all_classes), \"clases únicas.\")"
   ]
  },
  {
   "cell_type": "markdown",
   "id": "7dd4c64b",
   "metadata": {},
   "source": [
    "# Matriz de confusión si normalizar"
   ]
  },
  {
   "cell_type": "code",
   "execution_count": null,
   "id": "f2d62688",
   "metadata": {},
   "outputs": [],
   "source": [
    "cm = confusion_matrix(y_true, y_pred, labels=all_classes)\n",
    "\n",
    "plt.figure(figsize=(12,8))\n",
    "sns.heatmap(cm, annot=True, fmt=\"d\", cmap=\"Blues\", xticklabels=all_classes, yticklabels=all_classes)\n",
    "plt.xlabel(\"Predicción\")\n",
    "plt.ylabel(\"Etiqueta real\")\n",
    "plt.title(\"Matriz de Confusión\")\n",
    "plt.show()"
   ]
  },
  {
   "cell_type": "markdown",
   "id": "6ede12bb",
   "metadata": {},
   "source": [
    "# Matriz de confusión normalizada"
   ]
  },
  {
   "cell_type": "code",
   "execution_count": null,
   "id": "7f3bfd19",
   "metadata": {},
   "outputs": [],
   "source": [
    "cm = confusion_matrix(y_true, y_pred, labels=all_classes)\n",
    "cm_normalized = cm.astype(np.float64) / cm.sum(axis=1, keepdims=True)\n",
    "\n",
    "plt.figure(figsize=(12,8))\n",
    "sns.heatmap(cm_normalized, annot=True, fmt=\".1f\", cmap=\"Blues\", xticklabels=all_classes, yticklabels=all_classes)\n",
    "plt.xlabel(\"Predicción\")\n",
    "plt.ylabel(\"Etiqueta real\")\n",
    "plt.title(\"Matriz de Confusión\")\n",
    "plt.show()"
   ]
  },
  {
   "cell_type": "code",
   "execution_count": null,
   "id": "7bb39ecc",
   "metadata": {},
   "outputs": [],
   "source": [
    "report = classification_report(y_true, y_pred, labels=all_classes, zero_division=0)\n",
    "print(report)"
   ]
  },
  {
   "cell_type": "code",
   "execution_count": null,
   "id": "0d94b0a2",
   "metadata": {},
   "outputs": [],
   "source": [
    "for t, p in zip(y_true, y_pred):\n",
    "    if t != p:\n",
    "        print(f\"Real: {t} | Predicho: {p}\")"
   ]
  }
 ],
 "metadata": {
  "kernelspec": {
   "display_name": "entorno",
   "language": "python",
   "name": "python3"
  },
  "language_info": {
   "codemirror_mode": {
    "name": "ipython",
    "version": 3
   },
   "file_extension": ".py",
   "mimetype": "text/x-python",
   "name": "python",
   "nbconvert_exporter": "python",
   "pygments_lexer": "ipython3",
   "version": "3.9.21"
  }
 },
 "nbformat": 4,
 "nbformat_minor": 5
}
