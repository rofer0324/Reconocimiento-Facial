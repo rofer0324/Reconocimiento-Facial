{
 "cells": [
  {
   "cell_type": "code",
   "execution_count": null,
   "metadata": {},
   "outputs": [],
   "source": [
    "# Importar librerías necesarias\n",
    "import numpy as np\n",
    "import pandas as pd\n",
    "import matplotlib.pyplot as plt\n",
    "import seaborn as sns\n",
    "from sklearn.metrics import classification_report, confusion_matrix\n",
    "from tensorflow.keras.models import load_model\n",
    "from tensorflow.keras.preprocessing.image import ImageDataGenerator\n",
    "\n",
    "# Cargar el modelo entrenado\n",
    "model_path = '../models/re_fa_15_personasV6-gpu.keras'\n",
    "model = load_model(model_path)\n",
    "\n",
    "# Preparar los datos de prueba\n",
    "test_dir = '../data/processed/test'  # Ruta a tu directorio de datos de prueba\n",
    "img_height, img_width = 224, 224  # Ajustar según el tamaño de entrada del modelo\n",
    "\n",
    "test_datagen = ImageDataGenerator(rescale=1./255)\n",
    "test_generator = test_datagen.flow_from_directory(\n",
    "    test_dir,\n",
    "    target_size=(img_height, img_width),\n",
    "    batch_size=32,\n",
    "    class_mode='categorical',\n",
    "    shuffle=False\n",
    ")\n",
    "\n",
    "# Realizar predicciones\n",
    "predictions = model.predict(test_generator)\n",
    "predicted_classes = np.argmax(predictions, axis=1)\n",
    "true_classes = test_generator.classes\n",
    "class_labels = list(test_generator.class_indices.keys())\n",
    "\n",
    "# Evaluar el modelo\n",
    "print(\"Classification Report:\")\n",
    "print(classification_report(true_classes, predicted_classes, target_names=class_labels))\n",
    "\n",
    "# Matriz de confusión\n",
    "conf_matrix = confusion_matrix(true_classes, predicted_classes)\n",
    "plt.figure(figsize=(10, 8))\n",
    "sns.heatmap(conf_matrix, annot=True, fmt='d', cmap='Blues', xticklabels=class_labels, yticklabels=class_labels)\n",
    "plt.xlabel('Predicted')\n",
    "plt.ylabel('True')\n",
    "plt.title('Confusion Matrix')\n",
    "plt.show()\n",
    "\n",
    "# Verificar el modelo cargado\n",
    "print(f\"Modelo cargado desde: {model_path}\")\n",
    "print(f\"Dimensiones de entrada esperadas: {model.input_shape}\")\n",
    "\n",
    "# Verificar las clases verdaderas y predichas\n",
    "print(f\"Número de clases verdaderas: {len(true_classes)}\")\n",
    "print(f\"Número de clases predichas: {len(predicted_classes)}\")\n",
    "print(f\"Etiquetas de clase: {class_labels}\")"
   ]
  },
  {
   "cell_type": "code",
   "execution_count": null,
   "metadata": {},
   "outputs": [],
   "source": [
    "# Visualizar algunas predicciones\n",
    "def plot_predictions(generator, model, class_labels, num_images=14):\n",
    "    x, y = next(generator)\n",
    "    predictions = model.predict(x)\n",
    "    predicted_classes = np.argmax(predictions, axis=1)\n",
    "    true_classes = np.argmax(y, axis=1)\n",
    "    \n",
    "    plt.figure(figsize=(20, 10))\n",
    "    for i in range(num_images):\n",
    "        plt.subplot(2, num_images//2, i+1)\n",
    "        plt.imshow(x[i])\n",
    "        plt.title(f\"True: {class_labels[true_classes[i]]}\\nPred: {class_labels[predicted_classes[i]]}\")\n",
    "        plt.axis('off')\n",
    "    plt.show()\n",
    "plot_predictions(test_generator, model, class_labels)"
   ]
  }
 ],
 "metadata": {
  "kernelspec": {
   "display_name": "tf-gpu",
   "language": "python",
   "name": "python3"
  },
  "language_info": {
   "codemirror_mode": {
    "name": "ipython",
    "version": 3
   },
   "file_extension": ".py",
   "mimetype": "text/x-python",
   "name": "python",
   "nbconvert_exporter": "python",
   "pygments_lexer": "ipython3",
   "version": "3.9.21"
  }
 },
 "nbformat": 4,
 "nbformat_minor": 2
}
