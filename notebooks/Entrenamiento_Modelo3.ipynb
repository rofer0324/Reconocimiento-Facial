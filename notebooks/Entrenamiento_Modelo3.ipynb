{
 "cells": [
  {
   "cell_type": "markdown",
   "id": "17ecd3c8",
   "metadata": {},
   "source": [
    "Se prevé entrenar un modelo con mejor presión utilizando Pytorch"
   ]
  }
 ],
 "metadata": {
  "language_info": {
   "name": "python"
  }
 },
 "nbformat": 4,
 "nbformat_minor": 5
}
