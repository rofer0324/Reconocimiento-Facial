{
 "cells": [
  {
   "cell_type": "code",
   "execution_count": 11,
   "metadata": {},
   "outputs": [],
   "source": [
    "import cv2\n",
    "import os\n",
    "import random\n",
    "import mediapipe as mp"
   ]
  },
  {
   "cell_type": "markdown",
   "metadata": {},
   "source": [
    "Utilizando MediaPipe\n"
   ]
  },
  {
   "cell_type": "code",
   "execution_count": null,
   "metadata": {},
   "outputs": [],
   "source": [
    "def create_directories(base_path, person_name):\n",
    "    # Crear las carpetas de train y validation\n",
    "    preprocessed_path = os.path.join(base_path, 'preprocessed')\n",
    "    train_dir = os.path.join(preprocessed_path, 'train', person_name)\n",
    "    test_dir = os.path.join(preprocessed_path, 'test', person_name)\n",
    "\n",
    "    os.makedirs(train_dir, exist_ok=True)\n",
    "    os.makedirs(test_dir, exist_ok=True)\n",
    "\n",
    "    print(f'Carpetas creadas: {train_dir} - {test_dir}')\n",
    "    return train_dir, test_dir\n",
    "\n",
    "def capture_faces_mediapipe(video_path, preprocessed_path, max_images=400):\n",
    "    cap = cv2.VideoCapture(video_path)\n",
    "    count = 0\n",
    "    captured_faces = []\n",
    "\n",
    "    mp_face_detection = mp.solutions.face_detection\n",
    "    face_detection = mp_face_detection.FaceDetection(model_selection=0, min_detection_confidence=0.5)\n",
    "\n",
    "    while True:\n",
    "        ret, frame = cap.read()\n",
    "        if not ret:\n",
    "            break\n",
    "\n",
    "        frame_rgb = cv2.cvtColor(frame, cv2.COLOR_BGR2RGB)\n",
    "        results = face_detection.process(frame_rgb)\n",
    "\n",
    "        if results.detections:\n",
    "            for detection in results.detections:\n",
    "                bboxC = detection.location_data.relative_bounding_box\n",
    "                ih, iw, _ = frame.shape\n",
    "                x = int(bboxC.xmin * iw)\n",
    "                y = int(bboxC.ymin * ih)\n",
    "                w_box = int(bboxC.width * iw)\n",
    "                h_box = int(bboxC.height * ih)\n",
    "\n",
    "                face = frame[y:y+h_box, x:x+w_box]\n",
    "                if face.size == 0:\n",
    "                    continue\n",
    "\n",
    "                face = cv2.resize(face, (224, 224), interpolation=cv2.INTER_CUBIC)\n",
    "                captured_faces.append(face)\n",
    "                count += 1\n",
    "\n",
    "                cv2.rectangle(frame, (x, y), (x + w_box, y + h_box), (0, 255, 0), 2)\n",
    "\n",
    "            if count == max_images:\n",
    "                break\n",
    "\n",
    "        cv2.imshow('Video', frame)\n",
    "        if cv2.waitKey(1) & 0xFF == ord('q'):\n",
    "            break\n",
    "\n",
    "    cap.release()\n",
    "    cv2.destroyAllWindows()\n",
    "    return captured_faces\n",
    "\n",
    "def split_dataset(captured_faces, train_dir, test_dir):\n",
    "    total_images = len(captured_faces)\n",
    "    \n",
    "    if total_images == 0:\n",
    "        print(\"No hay imágenes para dividir.\")\n",
    "        return\n",
    "\n",
    "    # Mezclar aleatoriamente las imágenes\n",
    "    random.shuffle(captured_faces)\n",
    "\n",
    "    # Dividir el conjunto en 90% para entrenamiento y 10% para test\n",
    "    split_index = int(total_images * 0.9)\n",
    "    train_faces = captured_faces[:split_index]\n",
    "    test_faces = captured_faces[split_index:]\n",
    "    \n",
    "    # Saber cuántas imágenes ya existen en las carpetas\n",
    "    crops_train = len(os.listdir(train_dir))\n",
    "    crops_test = len(os.listdir(test_dir))\n",
    "\n",
    "\n",
    "    # Guardar las imágenes en las carpetas correspondientes SIN sobreescribir\n",
    "    for i, face in enumerate(train_faces):\n",
    "        filename = f'face_{crops_train + i}.jpg'\n",
    "        cv2.imwrite(os.path.join(train_dir, filename), face)\n",
    "\n",
    "    for i, face in enumerate(test_faces):\n",
    "        filename = f'face_{crops_test + i}.jpg'\n",
    "        cv2.imwrite(os.path.join(test_dir, filename), face)\n",
    "\n",
    "    print('Distribución de imágenes completada.')"
   ]
  },
  {
   "cell_type": "code",
   "execution_count": 13,
   "metadata": {},
   "outputs": [
    {
     "name": "stdout",
     "output_type": "stream",
     "text": [
      "\n",
      "Procesando a Abir Ahmed...\n",
      "Carpetas creadas: ../data/preprocessed/train/Abir Ahmed - ../data/preprocessed/test/Abir Ahmed\n",
      "Procesando video...: Abir1.mp4\n"
     ]
    },
    {
     "name": "stderr",
     "output_type": "stream",
     "text": [
      "INFO: Created TensorFlow Lite XNNPACK delegate for CPU.\n",
      "WARNING: All log messages before absl::InitializeLog() is called are written to STDERR\n",
      "W0000 00:00:1746313538.473879  102011 inference_feedback_manager.cc:114] Feedback manager requires a model with a single signature inference. Disabling support for feedback tensors.\n"
     ]
    },
    {
     "name": "stdout",
     "output_type": "stream",
     "text": [
      "Se han capturado 400 rostros del video Abir1.mp4.\n",
      "Distribución de imágenes completada.\n",
      "Procesando video...: Abir2.mp4\n"
     ]
    },
    {
     "name": "stderr",
     "output_type": "stream",
     "text": [
      "W0000 00:00:1746313544.133140  102087 inference_feedback_manager.cc:114] Feedback manager requires a model with a single signature inference. Disabling support for feedback tensors.\n"
     ]
    },
    {
     "name": "stdout",
     "output_type": "stream",
     "text": [
      "Se han capturado 400 rostros del video Abir2.mp4.\n",
      "Distribución de imágenes completada.\n",
      "\n",
      "Procesando a Adriana Sanchez...\n",
      "Carpetas creadas: ../data/preprocessed/train/Adriana Sanchez - ../data/preprocessed/test/Adriana Sanchez\n",
      "Procesando video...: AdriSa1.mp4\n"
     ]
    },
    {
     "name": "stderr",
     "output_type": "stream",
     "text": [
      "W0000 00:00:1746313549.135455  102135 inference_feedback_manager.cc:114] Feedback manager requires a model with a single signature inference. Disabling support for feedback tensors.\n"
     ]
    },
    {
     "name": "stdout",
     "output_type": "stream",
     "text": [
      "Se han capturado 400 rostros del video AdriSa1.mp4.\n",
      "Distribución de imágenes completada.\n",
      "Procesando video...: AdriSa2.mp4\n"
     ]
    },
    {
     "name": "stderr",
     "output_type": "stream",
     "text": [
      "W0000 00:00:1746313554.657578  102197 inference_feedback_manager.cc:114] Feedback manager requires a model with a single signature inference. Disabling support for feedback tensors.\n"
     ]
    },
    {
     "name": "stdout",
     "output_type": "stream",
     "text": [
      "Se han capturado 400 rostros del video AdriSa2.mp4.\n",
      "Distribución de imágenes completada.\n",
      "\n",
      "Procesando a Adriana Solanilla...\n",
      "Carpetas creadas: ../data/preprocessed/train/Adriana Solanilla - ../data/preprocessed/test/Adriana Solanilla\n",
      "Procesando video...: AdriSo1.mp4\n"
     ]
    },
    {
     "name": "stderr",
     "output_type": "stream",
     "text": [
      "W0000 00:00:1746313559.677291  102244 inference_feedback_manager.cc:114] Feedback manager requires a model with a single signature inference. Disabling support for feedback tensors.\n"
     ]
    },
    {
     "name": "stdout",
     "output_type": "stream",
     "text": [
      "Se han capturado 400 rostros del video AdriSo1.mp4.\n",
      "Distribución de imágenes completada.\n",
      "Procesando video...: AdriSo2.mp4\n"
     ]
    },
    {
     "name": "stderr",
     "output_type": "stream",
     "text": [
      "W0000 00:00:1746313564.520213  102301 inference_feedback_manager.cc:114] Feedback manager requires a model with a single signature inference. Disabling support for feedback tensors.\n"
     ]
    },
    {
     "name": "stdout",
     "output_type": "stream",
     "text": [
      "Se han capturado 400 rostros del video AdriSo2.mp4.\n",
      "Distribución de imágenes completada.\n",
      "\n",
      "Procesando a Amy Olivares...\n",
      "Carpetas creadas: ../data/preprocessed/train/Amy Olivares - ../data/preprocessed/test/Amy Olivares\n",
      "Procesando video...: Amy1.mp4\n"
     ]
    },
    {
     "name": "stderr",
     "output_type": "stream",
     "text": [
      "W0000 00:00:1746313569.708820  102376 inference_feedback_manager.cc:114] Feedback manager requires a model with a single signature inference. Disabling support for feedback tensors.\n"
     ]
    },
    {
     "name": "stdout",
     "output_type": "stream",
     "text": [
      "Se han capturado 400 rostros del video Amy1.mp4.\n",
      "Distribución de imágenes completada.\n",
      "Procesando video...: Amy2.mp4\n"
     ]
    },
    {
     "name": "stderr",
     "output_type": "stream",
     "text": [
      "W0000 00:00:1746313574.785474  102462 inference_feedback_manager.cc:114] Feedback manager requires a model with a single signature inference. Disabling support for feedback tensors.\n"
     ]
    },
    {
     "name": "stdout",
     "output_type": "stream",
     "text": [
      "Se han capturado 400 rostros del video Amy2.mp4.\n",
      "Distribución de imágenes completada.\n",
      "\n",
      "Procesando a Blas de Leon...\n",
      "Carpetas creadas: ../data/preprocessed/train/Blas de Leon - ../data/preprocessed/test/Blas de Leon\n",
      "Procesando video...: Blas1.mp4\n"
     ]
    },
    {
     "name": "stderr",
     "output_type": "stream",
     "text": [
      "W0000 00:00:1746313579.962563  102514 inference_feedback_manager.cc:114] Feedback manager requires a model with a single signature inference. Disabling support for feedback tensors.\n"
     ]
    },
    {
     "name": "stdout",
     "output_type": "stream",
     "text": [
      "Se han capturado 400 rostros del video Blas1.mp4.\n",
      "Distribución de imágenes completada.\n",
      "Procesando video...: Blas2.mp4\n"
     ]
    },
    {
     "name": "stderr",
     "output_type": "stream",
     "text": [
      "W0000 00:00:1746313585.199365  102579 inference_feedback_manager.cc:114] Feedback manager requires a model with a single signature inference. Disabling support for feedback tensors.\n"
     ]
    },
    {
     "name": "stdout",
     "output_type": "stream",
     "text": [
      "Se han capturado 400 rostros del video Blas2.mp4.\n",
      "Distribución de imágenes completada.\n",
      "\n",
      "Procesando a Carlos Beitia...\n",
      "Carpetas creadas: ../data/preprocessed/train/Carlos Beitia - ../data/preprocessed/test/Carlos Beitia\n",
      "Procesando video...: CarlosB1.mp4\n"
     ]
    },
    {
     "name": "stderr",
     "output_type": "stream",
     "text": [
      "W0000 00:00:1746313590.301682  102622 inference_feedback_manager.cc:114] Feedback manager requires a model with a single signature inference. Disabling support for feedback tensors.\n"
     ]
    },
    {
     "name": "stdout",
     "output_type": "stream",
     "text": [
      "Se han capturado 400 rostros del video CarlosB1.mp4.\n",
      "Distribución de imágenes completada.\n",
      "Procesando video...: CarlosB2.mp4\n"
     ]
    },
    {
     "name": "stderr",
     "output_type": "stream",
     "text": [
      "W0000 00:00:1746313595.663197  102686 inference_feedback_manager.cc:114] Feedback manager requires a model with a single signature inference. Disabling support for feedback tensors.\n"
     ]
    },
    {
     "name": "stdout",
     "output_type": "stream",
     "text": [
      "Se han capturado 400 rostros del video CarlosB2.mp4.\n",
      "Distribución de imágenes completada.\n",
      "\n",
      "Procesando a Carlos Hernandez...\n",
      "Carpetas creadas: ../data/preprocessed/train/Carlos Hernandez - ../data/preprocessed/test/Carlos Hernandez\n",
      "Procesando video...: CarlosH1.mp4\n"
     ]
    },
    {
     "name": "stderr",
     "output_type": "stream",
     "text": [
      "W0000 00:00:1746313601.125794  102745 inference_feedback_manager.cc:114] Feedback manager requires a model with a single signature inference. Disabling support for feedback tensors.\n"
     ]
    },
    {
     "name": "stdout",
     "output_type": "stream",
     "text": [
      "Se han capturado 400 rostros del video CarlosH1.mp4.\n",
      "Distribución de imágenes completada.\n",
      "Procesando video...: CarlosH2.mp4\n"
     ]
    },
    {
     "name": "stderr",
     "output_type": "stream",
     "text": [
      "W0000 00:00:1746313606.370338  102794 inference_feedback_manager.cc:114] Feedback manager requires a model with a single signature inference. Disabling support for feedback tensors.\n"
     ]
    },
    {
     "name": "stdout",
     "output_type": "stream",
     "text": [
      "Se han capturado 400 rostros del video CarlosH2.mp4.\n",
      "Distribución de imágenes completada.\n",
      "\n",
      "Procesando a Cesar Rodriguez...\n",
      "Carpetas creadas: ../data/preprocessed/train/Cesar Rodriguez - ../data/preprocessed/test/Cesar Rodriguez\n",
      "Procesando video...: Cesar1.mp4\n"
     ]
    },
    {
     "name": "stderr",
     "output_type": "stream",
     "text": [
      "W0000 00:00:1746313611.878239  102852 inference_feedback_manager.cc:114] Feedback manager requires a model with a single signature inference. Disabling support for feedback tensors.\n"
     ]
    },
    {
     "name": "stdout",
     "output_type": "stream",
     "text": [
      "Se han capturado 400 rostros del video Cesar1.mp4.\n",
      "Distribución de imágenes completada.\n",
      "Procesando video...: Cesar2.mp4\n"
     ]
    },
    {
     "name": "stderr",
     "output_type": "stream",
     "text": [
      "W0000 00:00:1746313617.356932  102908 inference_feedback_manager.cc:114] Feedback manager requires a model with a single signature inference. Disabling support for feedback tensors.\n"
     ]
    },
    {
     "name": "stdout",
     "output_type": "stream",
     "text": [
      "Se han capturado 400 rostros del video Cesar2.mp4.\n",
      "Distribución de imágenes completada.\n",
      "\n",
      "Procesando a David Rodriguez...\n",
      "Carpetas creadas: ../data/preprocessed/train/David Rodriguez - ../data/preprocessed/test/David Rodriguez\n",
      "Procesando video...: David1.mp4\n"
     ]
    },
    {
     "name": "stderr",
     "output_type": "stream",
     "text": [
      "W0000 00:00:1746313622.663495  102956 inference_feedback_manager.cc:114] Feedback manager requires a model with a single signature inference. Disabling support for feedback tensors.\n"
     ]
    },
    {
     "name": "stdout",
     "output_type": "stream",
     "text": [
      "Se han capturado 79 rostros del video David1.mp4.\n",
      "Distribución de imágenes completada.\n",
      "Procesando video...: David2.mp4\n"
     ]
    },
    {
     "name": "stderr",
     "output_type": "stream",
     "text": [
      "W0000 00:00:1746313634.751736  103047 inference_feedback_manager.cc:114] Feedback manager requires a model with a single signature inference. Disabling support for feedback tensors.\n"
     ]
    },
    {
     "name": "stdout",
     "output_type": "stream",
     "text": [
      "Se han capturado 211 rostros del video David2.mp4.\n",
      "Distribución de imágenes completada.\n",
      "\n",
      "Procesando a Javier Bustamante...\n",
      "Carpetas creadas: ../data/preprocessed/train/Javier Bustamante - ../data/preprocessed/test/Javier Bustamante\n",
      "Procesando video...: Javier1.mp4\n"
     ]
    },
    {
     "name": "stderr",
     "output_type": "stream",
     "text": [
      "W0000 00:00:1746313644.474639  103121 inference_feedback_manager.cc:114] Feedback manager requires a model with a single signature inference. Disabling support for feedback tensors.\n"
     ]
    },
    {
     "name": "stdout",
     "output_type": "stream",
     "text": [
      "Se han capturado 400 rostros del video Javier1.mp4.\n",
      "Distribución de imágenes completada.\n",
      "Procesando video...: Javier2.mp4\n"
     ]
    },
    {
     "name": "stderr",
     "output_type": "stream",
     "text": [
      "W0000 00:00:1746313649.492556  103182 inference_feedback_manager.cc:114] Feedback manager requires a model with a single signature inference. Disabling support for feedback tensors.\n"
     ]
    },
    {
     "name": "stdout",
     "output_type": "stream",
     "text": [
      "Se han capturado 400 rostros del video Javier2.mp4.\n",
      "Distribución de imágenes completada.\n",
      "\n",
      "Procesando a Jeremy Sanchez...\n",
      "Carpetas creadas: ../data/preprocessed/train/Jeremy Sanchez - ../data/preprocessed/test/Jeremy Sanchez\n",
      "Procesando video...: Jeremy1.mp4\n"
     ]
    },
    {
     "name": "stderr",
     "output_type": "stream",
     "text": [
      "W0000 00:00:1746313654.283726  103235 inference_feedback_manager.cc:114] Feedback manager requires a model with a single signature inference. Disabling support for feedback tensors.\n"
     ]
    },
    {
     "name": "stdout",
     "output_type": "stream",
     "text": [
      "Se han capturado 400 rostros del video Jeremy1.mp4.\n",
      "Distribución de imágenes completada.\n",
      "Procesando video...: Jeremy2.mp4\n"
     ]
    },
    {
     "name": "stderr",
     "output_type": "stream",
     "text": [
      "W0000 00:00:1746313659.236321  103285 inference_feedback_manager.cc:114] Feedback manager requires a model with a single signature inference. Disabling support for feedback tensors.\n"
     ]
    },
    {
     "name": "stdout",
     "output_type": "stream",
     "text": [
      "Se han capturado 400 rostros del video Jeremy2.mp4.\n",
      "Distribución de imágenes completada.\n",
      "\n",
      "Procesando a Jonathan Peralta...\n",
      "Carpetas creadas: ../data/preprocessed/train/Jonathan Peralta - ../data/preprocessed/test/Jonathan Peralta\n",
      "Procesando video...: Jonathan1.mp4\n"
     ]
    },
    {
     "name": "stderr",
     "output_type": "stream",
     "text": [
      "W0000 00:00:1746313664.196992  103347 inference_feedback_manager.cc:114] Feedback manager requires a model with a single signature inference. Disabling support for feedback tensors.\n"
     ]
    },
    {
     "name": "stdout",
     "output_type": "stream",
     "text": [
      "Se han capturado 400 rostros del video Jonathan1.mp4.\n",
      "Distribución de imágenes completada.\n",
      "Procesando video...: Jonathan2.mp4\n"
     ]
    },
    {
     "name": "stderr",
     "output_type": "stream",
     "text": [
      "W0000 00:00:1746313669.229954  103396 inference_feedback_manager.cc:114] Feedback manager requires a model with a single signature inference. Disabling support for feedback tensors.\n"
     ]
    },
    {
     "name": "stdout",
     "output_type": "stream",
     "text": [
      "Se han capturado 400 rostros del video Jonathan2.mp4.\n",
      "Distribución de imágenes completada.\n",
      "\n",
      "Procesando a Kevin Rodriguez...\n",
      "Carpetas creadas: ../data/preprocessed/train/Kevin Rodriguez - ../data/preprocessed/test/Kevin Rodriguez\n",
      "Procesando video...: Kevin1.mp4\n"
     ]
    },
    {
     "name": "stderr",
     "output_type": "stream",
     "text": [
      "W0000 00:00:1746313674.363506  103456 inference_feedback_manager.cc:114] Feedback manager requires a model with a single signature inference. Disabling support for feedback tensors.\n"
     ]
    },
    {
     "name": "stdout",
     "output_type": "stream",
     "text": [
      "Se han capturado 400 rostros del video Kevin1.mp4.\n",
      "Distribución de imágenes completada.\n",
      "Procesando video...: Kevin2.mp4\n"
     ]
    },
    {
     "name": "stderr",
     "output_type": "stream",
     "text": [
      "W0000 00:00:1746313679.538662  103503 inference_feedback_manager.cc:114] Feedback manager requires a model with a single signature inference. Disabling support for feedback tensors.\n"
     ]
    },
    {
     "name": "stdout",
     "output_type": "stream",
     "text": [
      "Se han capturado 400 rostros del video Kevin2.mp4.\n",
      "Distribución de imágenes completada.\n",
      "\n",
      "Procesando a Mahir Arcia...\n",
      "Carpetas creadas: ../data/preprocessed/train/Mahir Arcia - ../data/preprocessed/test/Mahir Arcia\n",
      "Procesando video...: Mahir1.mp4\n"
     ]
    },
    {
     "name": "stderr",
     "output_type": "stream",
     "text": [
      "W0000 00:00:1746313684.546050  103564 inference_feedback_manager.cc:114] Feedback manager requires a model with a single signature inference. Disabling support for feedback tensors.\n"
     ]
    },
    {
     "name": "stdout",
     "output_type": "stream",
     "text": [
      "Se han capturado 400 rostros del video Mahir1.mp4.\n",
      "Distribución de imágenes completada.\n",
      "Procesando video...: Mahir2.mp4\n"
     ]
    },
    {
     "name": "stderr",
     "output_type": "stream",
     "text": [
      "W0000 00:00:1746313689.763468  103611 inference_feedback_manager.cc:114] Feedback manager requires a model with a single signature inference. Disabling support for feedback tensors.\n"
     ]
    },
    {
     "name": "stdout",
     "output_type": "stream",
     "text": [
      "Se han capturado 400 rostros del video Mahir2.mp4.\n",
      "Distribución de imágenes completada.\n",
      "\n",
      "Procesando a Michael Jordan...\n",
      "Carpetas creadas: ../data/preprocessed/train/Michael Jordan - ../data/preprocessed/test/Michael Jordan\n",
      "Procesando video...: Michael1.mp4\n"
     ]
    },
    {
     "name": "stderr",
     "output_type": "stream",
     "text": [
      "W0000 00:00:1746313694.755631  103686 inference_feedback_manager.cc:114] Feedback manager requires a model with a single signature inference. Disabling support for feedback tensors.\n"
     ]
    },
    {
     "name": "stdout",
     "output_type": "stream",
     "text": [
      "Se han capturado 400 rostros del video Michael1.mp4.\n",
      "Distribución de imágenes completada.\n",
      "Procesando video...: Michael2.mp4\n"
     ]
    },
    {
     "name": "stderr",
     "output_type": "stream",
     "text": [
      "W0000 00:00:1746313699.939543  103730 inference_feedback_manager.cc:114] Feedback manager requires a model with a single signature inference. Disabling support for feedback tensors.\n"
     ]
    },
    {
     "name": "stdout",
     "output_type": "stream",
     "text": [
      "Se han capturado 400 rostros del video Michael2.mp4.\n",
      "Distribución de imágenes completada.\n",
      "\n",
      "Procesando a Maria Donadio...\n",
      "Carpetas creadas: ../data/preprocessed/train/Maria Donadio - ../data/preprocessed/test/Maria Donadio\n",
      "Procesando video...: Teresa1.mp4\n"
     ]
    },
    {
     "name": "stderr",
     "output_type": "stream",
     "text": [
      "W0000 00:00:1746313705.283234  103790 inference_feedback_manager.cc:114] Feedback manager requires a model with a single signature inference. Disabling support for feedback tensors.\n"
     ]
    },
    {
     "name": "stdout",
     "output_type": "stream",
     "text": [
      "Se han capturado 127 rostros del video Teresa1.mp4.\n",
      "Distribución de imágenes completada.\n",
      "Procesando video...: Teresa2.mp4\n"
     ]
    },
    {
     "name": "stderr",
     "output_type": "stream",
     "text": [
      "W0000 00:00:1746313717.371867  103874 inference_feedback_manager.cc:114] Feedback manager requires a model with a single signature inference. Disabling support for feedback tensors.\n"
     ]
    },
    {
     "name": "stdout",
     "output_type": "stream",
     "text": [
      "Se han capturado 400 rostros del video Teresa2.mp4.\n",
      "Distribución de imágenes completada.\n",
      "\n",
      "Procesando a Alejandro Tulipano...\n",
      "Carpetas creadas: ../data/preprocessed/train/Alejandro Tulipano - ../data/preprocessed/test/Alejandro Tulipano\n",
      "Procesando video...: Tulipano1.mp4\n"
     ]
    },
    {
     "name": "stderr",
     "output_type": "stream",
     "text": [
      "W0000 00:00:1746313724.471558  103930 inference_feedback_manager.cc:114] Feedback manager requires a model with a single signature inference. Disabling support for feedback tensors.\n"
     ]
    },
    {
     "name": "stdout",
     "output_type": "stream",
     "text": [
      "Se han capturado 400 rostros del video Tulipano1.mp4.\n",
      "Distribución de imágenes completada.\n",
      "Procesando video...: Tulipano2.mp4\n"
     ]
    },
    {
     "name": "stderr",
     "output_type": "stream",
     "text": [
      "W0000 00:00:1746313729.659490  103990 inference_feedback_manager.cc:114] Feedback manager requires a model with a single signature inference. Disabling support for feedback tensors.\n"
     ]
    },
    {
     "name": "stdout",
     "output_type": "stream",
     "text": [
      "Se han capturado 400 rostros del video Tulipano2.mp4.\n",
      "Distribución de imágenes completada.\n"
     ]
    }
   ],
   "source": [
    "def main():\n",
    "    # Diccionario de personas y sus respectivos videos\n",
    "    personas_videos = {\n",
    "        'Abir Ahmed': ['Abir1.mp4', 'Abir2.mp4'],\n",
    "        'Adriana Sanchez': ['AdriSa1.mp4', 'AdriSa2.mp4'],\n",
    "        'Adriana Solanilla': ['AdriSo1.mp4', 'AdriSo2.mp4'],\n",
    "        'Amy Olivares': ['Amy1.mp4', 'Amy2.mp4'],\n",
    "        'Blas de Leon': ['Blas1.mp4', 'Blas2.mp4'],\n",
    "        'Carlos Beitia': ['CarlosB1.mp4', 'CarlosB2.mp4'],\n",
    "        'Carlos Hernandez': ['CarlosH1.mp4', 'CarlosH2.mp4'],\n",
    "        'Cesar Rodriguez': ['Cesar1.mp4', 'Cesar2.mp4'],\n",
    "        'David Rodriguez': ['David1.mp4', 'David2.mp4'],\n",
    "        'Javier Bustamante': ['Javier1.mp4', 'Javier2.mp4'],\n",
    "        'Jeremy Sanchez': ['Jeremy1.mp4', 'Jeremy2.mp4'],\n",
    "        'Jonathan Peralta': ['Jonathan1.mp4', 'Jonathan2.mp4'],\n",
    "        'Kevin Rodriguez': ['Kevin1.mp4', 'Kevin2.mp4'],\n",
    "        'Mahir Arcia': ['Mahir1.mp4', 'Mahir2.mp4'],\n",
    "        'Michael Jordan': ['Michael1.mp4', 'Michael2.mp4'],\n",
    "        'Maria Donadio': ['Teresa1.mp4', 'Teresa2.mp4'],\n",
    "        'Alejandro Tulipano': ['Tulipano1.mp4', 'Tulipano2.mp4'],\n",
    "    }\n",
    "\n",
    "    base_path = '../data'  # Ruta base\n",
    "\n",
    "    # Iterar por cada persona\n",
    "    for person_name, videos in personas_videos.items():\n",
    "        print(f\"\\nProcesando a {person_name}...\")\n",
    "\n",
    "        train_dir, test_dir = create_directories(base_path, person_name)\n",
    "\n",
    "        for video_name in videos:\n",
    "            video_path = os.path.join(base_path, 'crudo', video_name)\n",
    "\n",
    "            if not os.path.exists(video_path):\n",
    "                print(f\"VIDEO NO ENCONTRADO !!: {video_path}\")\n",
    "                continue\n",
    "\n",
    "            print(f\"Procesando video...: {video_name}\")\n",
    "\n",
    "            # Captura de rostros\n",
    "            captured_faces = capture_faces_mediapipe(video_path, train_dir)\n",
    "            \n",
    "            if len(captured_faces) > 0:\n",
    "                print(f'Se han capturado {len(captured_faces)} rostros del video {video_name}.')\n",
    "                \n",
    "                # Dividir en train/test\n",
    "                split_dataset(captured_faces, train_dir, test_dir)\n",
    "            else:\n",
    "                print(f'No se capturaron rostros en {video_name}.')\n",
    "\n",
    "if __name__ == \"__main__\":\n",
    "    main()"
   ]
  }
 ],
 "metadata": {
  "kernelspec": {
   "display_name": "Python 3",
   "language": "python",
   "name": "python3"
  },
  "language_info": {
   "codemirror_mode": {
    "name": "ipython",
    "version": 3
   },
   "file_extension": ".py",
   "mimetype": "text/x-python",
   "name": "python",
   "nbconvert_exporter": "python",
   "pygments_lexer": "ipython3",
   "version": "3.9.21"
  }
 },
 "nbformat": 4,
 "nbformat_minor": 2
}
