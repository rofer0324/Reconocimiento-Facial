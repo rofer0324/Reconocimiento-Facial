{
 "cells": [
  {
   "cell_type": "code",
   "execution_count": null,
   "metadata": {},
   "outputs": [
    {
     "name": "stdout",
     "output_type": "stream",
     "text": [
      "matplotlib está instalada correctamente.\n",
      "sklearn está instalada correctamente.\n",
      "numpy está instalada correctamente.\n",
      "scipy está instalada correctamente.\n",
      "pandas está instalada correctamente.\n",
      "pydot no está instalada o no se pudo importar.\n",
      "graphviz no está instalada o no se pudo importar.\n",
      "jupyterlab está instalada correctamente.\n",
      "seaborn está instalada correctamente.\n",
      "cv2 está instalada correctamente.\n",
      "PIL está instalada correctamente.\n",
      "tabulate está instalada correctamente.\n",
      "customtkinter no está instalada o no se pudo importar.\n",
      "prettytable no está instalada o no se pudo importar.\n",
      "mediapipe está instalada correctamente.\n"
     ]
    },
    {
     "name": "stderr",
     "output_type": "stream",
     "text": [
      "/media/rodfer/Linux/entorno/lib/python3.12/site-packages/tqdm/auto.py:21: TqdmWarning: IProgress not found. Please update jupyter and ipywidgets. See https://ipywidgets.readthedocs.io/en/stable/user_install.html\n",
      "  from .autonotebook import tqdm as notebook_tqdm\n"
     ]
    },
    {
     "name": "stdout",
     "output_type": "stream",
     "text": [
      "gradio está instalada correctamente.\n",
      "tqdm está instalada correctamente.\n",
      "tensorflow no está instalada o no se pudo importar.\n",
      "imutils está instalada correctamente.\n",
      "keras no está instalada o no se pudo importar.\n"
     ]
    }
   ],
   "source": [
    "import importlib\n",
    "\n",
    "libraries = [\n",
    "    'matplotlib', 'sklearn', 'numpy', 'scipy', 'pandas', 'pydot',\n",
    "    'graphviz', 'jupyterlab', 'seaborn', 'cv2', 'PIL', 'tabulate',\n",
    "    'customtkinter', 'prettytable', 'mediapipe', 'gradio', 'tqdm',\n",
    "    'tensorflow', 'imutils', 'keras', 'torch', 'torchvision'\n",
    "]\n",
    "\n",
    "for library in libraries:\n",
    "    try:\n",
    "        importlib.import_module(library)\n",
    "        print(f\"{library} está instalada correctamente.\")\n",
    "    except ImportError:\n",
    "        print(f\"{library} no está instalada o no se pudo importar.\")\n",
    "\n"
   ]
  }
 ],
 "metadata": {
  "kernelspec": {
   "display_name": "entorno",
   "language": "python",
   "name": "python3"
  },
  "language_info": {
   "codemirror_mode": {
    "name": "ipython",
    "version": 3
   },
   "file_extension": ".py",
   "mimetype": "text/x-python",
   "name": "python",
   "nbconvert_exporter": "python",
   "pygments_lexer": "ipython3",
   "version": "3.12.11"
  }
 },
 "nbformat": 4,
 "nbformat_minor": 2
}
