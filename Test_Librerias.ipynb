{
 "cells": [
  {
   "cell_type": "code",
   "execution_count": 1,
   "metadata": {},
   "outputs": [
    {
     "name": "stdout",
     "output_type": "stream",
     "text": [
      "matplotlib está instalada correctamente.\n",
      "sklearn está instalada correctamente.\n",
      "numpy está instalada correctamente.\n",
      "scipy está instalada correctamente.\n",
      "pandas está instalada correctamente.\n",
      "pydot está instalada correctamente.\n",
      "graphviz está instalada correctamente.\n",
      "jupyterlab está instalada correctamente.\n",
      "seaborn está instalada correctamente.\n",
      "cv2 está instalada correctamente.\n",
      "PIL está instalada correctamente.\n",
      "tabulate está instalada correctamente.\n",
      "customtkinter está instalada correctamente.\n",
      "prettytable está instalada correctamente.\n",
      "mediapipe está instalada correctamente.\n"
     ]
    },
    {
     "name": "stdout",
     "output_type": "stream",
     "text": [
      "gradio está instalada correctamente.\n",
      "tqdm está instalada correctamente.\n",
      "tensorflow está instalada correctamente.\n"
     ]
    }
   ],
   "source": [
    "import importlib\n",
    "\n",
    "libraries = [\n",
    "    'matplotlib', 'sklearn', 'numpy', 'scipy', 'pandas', 'pydot',\n",
    "    'graphviz', 'jupyterlab', 'seaborn', 'cv2', 'PIL', 'tabulate',\n",
    "    'customtkinter', 'prettytable', 'mediapipe', 'gradio', 'tqdm',\n",
    "    'tensorflow', 'imutils', 'keras'\n",
    "]\n",
    "\n",
    "for library in libraries:\n",
    "    try:\n",
    "        importlib.import_module(library)\n",
    "        print(f\"{library} está instalada correctamente.\")\n",
    "    except ImportError:\n",
    "        print(f\"{library} no está instalada o no se pudo importar.\")\n",
    "\n"
   ]
  }
 ],
 "metadata": {
  "kernelspec": {
   "display_name": "VA",
   "language": "python",
   "name": "python3"
  },
  "language_info": {
   "codemirror_mode": {
    "name": "ipython",
    "version": 3
   },
   "file_extension": ".py",
   "mimetype": "text/x-python",
   "name": "python",
   "nbconvert_exporter": "python",
   "pygments_lexer": "ipython3",
   "version": "3.11.3"
  }
 },
 "nbformat": 4,
 "nbformat_minor": 2
}
